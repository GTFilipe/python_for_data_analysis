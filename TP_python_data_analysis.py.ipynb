{
 "cells": [
  {
   "cell_type": "code",
   "execution_count": 2,
   "metadata": {},
   "outputs": [],
   "source": [
    "import numpy as np\n",
    "import pandas as pd\n",
    "from pandas import Series, DataFrame\n",
    "import matplotlib.pyplot as plt"
   ]
  },
  {
   "cell_type": "code",
   "execution_count": 3,
   "metadata": {},
   "outputs": [],
   "source": [
    "%matplotlib inline"
   ]
  },
  {
   "cell_type": "code",
   "execution_count": 40,
   "metadata": {},
   "outputs": [
    {
     "data": {
      "text/plain": [
       "<matplotlib.collections.PathCollection at 0x1f33693f7c0>"
      ]
     },
     "execution_count": 40,
     "metadata": {},
     "output_type": "execute_result"
    },
    {
     "data": {
      "image/png": "[encoded data removed]",
      "text/plain": [
       "<Figure size 432x288 with 1 Axes>"
      ]
     },
     "metadata": {
      "needs_background": "light"
     },
     "output_type": "display_data"
    }
   ],
   "source": [
    "plt.scatter(np.arange(30), np.arange(30) + 3 * np.random.randn(30))"
   ]
  },
  {
   "cell_type": "markdown",
   "metadata": {},
   "source": [
    "Dataset initialisation :"
   ]
  },
  {
   "cell_type": "code",
   "execution_count": 66,
   "metadata": {},
   "outputs": [],
   "source": [
    "dataset = pd.read_csv(\"dpt2018.csv\", delimiter=\";\")"
   ]
  },
  {
   "cell_type": "markdown",
   "metadata": {},
   "source": [
    "Show some elements of the dataset :"
   ]
  },
  {
   "cell_type": "code",
   "execution_count": 41,
   "metadata": {},
   "outputs": [
    {
     "data": {
      "text/html": [
       "<div>\n",
       "<style scoped>\n",
       "    .dataframe tbody tr th:only-of-type {\n",
       "        vertical-align: middle;\n",
       "    }\n",
       "\n",
       "    .dataframe tbody tr th {\n",
       "        vertical-align: top;\n",
       "    }\n",
       "\n",
       "    .dataframe thead th {\n",
       "        text-align: right;\n",
       "    }\n",
       "</style>\n",
       "<table border=\"1\" class=\"dataframe\">\n",
       "  <thead>\n",
       "    <tr style=\"text-align: right;\">\n",
       "      <th></th>\n",
       "      <th>sexe</th>\n",
       "      <th>preusuel</th>\n",
       "      <th>annais</th>\n",
       "      <th>dpt</th>\n",
       "      <th>nombre</th>\n",
       "    </tr>\n",
       "  </thead>\n",
       "  <tbody>\n",
       "    <tr>\n",
       "      <th>0</th>\n",
       "      <td>1</td>\n",
       "      <td>A</td>\n",
       "      <td>XXXX</td>\n",
       "      <td>XX</td>\n",
       "      <td>27</td>\n",
       "    </tr>\n",
       "    <tr>\n",
       "      <th>1</th>\n",
       "      <td>1</td>\n",
       "      <td>AADAM</td>\n",
       "      <td>XXXX</td>\n",
       "      <td>XX</td>\n",
       "      <td>27</td>\n",
       "    </tr>\n",
       "    <tr>\n",
       "      <th>2</th>\n",
       "      <td>1</td>\n",
       "      <td>AADEL</td>\n",
       "      <td>XXXX</td>\n",
       "      <td>XX</td>\n",
       "      <td>55</td>\n",
       "    </tr>\n",
       "    <tr>\n",
       "      <th>3</th>\n",
       "      <td>1</td>\n",
       "      <td>AADIL</td>\n",
       "      <td>1983</td>\n",
       "      <td>84</td>\n",
       "      <td>3</td>\n",
       "    </tr>\n",
       "    <tr>\n",
       "      <th>4</th>\n",
       "      <td>1</td>\n",
       "      <td>AADIL</td>\n",
       "      <td>1992</td>\n",
       "      <td>92</td>\n",
       "      <td>3</td>\n",
       "    </tr>\n",
       "    <tr>\n",
       "      <th>5</th>\n",
       "      <td>1</td>\n",
       "      <td>AADIL</td>\n",
       "      <td>XXXX</td>\n",
       "      <td>XX</td>\n",
       "      <td>175</td>\n",
       "    </tr>\n",
       "    <tr>\n",
       "      <th>6</th>\n",
       "      <td>1</td>\n",
       "      <td>AAHIL</td>\n",
       "      <td>2016</td>\n",
       "      <td>95</td>\n",
       "      <td>3</td>\n",
       "    </tr>\n",
       "    <tr>\n",
       "      <th>7</th>\n",
       "      <td>1</td>\n",
       "      <td>AAHIL</td>\n",
       "      <td>XXXX</td>\n",
       "      <td>XX</td>\n",
       "      <td>17</td>\n",
       "    </tr>\n",
       "    <tr>\n",
       "      <th>8</th>\n",
       "      <td>1</td>\n",
       "      <td>AAKASH</td>\n",
       "      <td>XXXX</td>\n",
       "      <td>XX</td>\n",
       "      <td>26</td>\n",
       "    </tr>\n",
       "    <tr>\n",
       "      <th>9</th>\n",
       "      <td>1</td>\n",
       "      <td>AARON</td>\n",
       "      <td>1962</td>\n",
       "      <td>75</td>\n",
       "      <td>3</td>\n",
       "    </tr>\n",
       "  </tbody>\n",
       "</table>\n",
       "</div>"
      ],
      "text/plain": [
       "   sexe preusuel annais dpt  nombre\n",
       "0     1        A   XXXX  XX      27\n",
       "1     1    AADAM   XXXX  XX      27\n",
       "2     1    AADEL   XXXX  XX      55\n",
       "3     1    AADIL   1983  84       3\n",
       "4     1    AADIL   1992  92       3\n",
       "5     1    AADIL   XXXX  XX     175\n",
       "6     1    AAHIL   2016  95       3\n",
       "7     1    AAHIL   XXXX  XX      17\n",
       "8     1   AAKASH   XXXX  XX      26\n",
       "9     1    AARON   1962  75       3"
      ]
     },
     "execution_count": 41,
     "metadata": {},
     "output_type": "execute_result"
    }
   ],
   "source": [
    "dataset.head(10)"
   ]
  },
  {
   "cell_type": "code",
   "execution_count": 45,
   "metadata": {},
   "outputs": [
    {
     "data": {
      "text/html": [
       "<div>\n",
       "<style scoped>\n",
       "    .dataframe tbody tr th:only-of-type {\n",
       "        vertical-align: middle;\n",
       "    }\n",
       "\n",
       "    .dataframe tbody tr th {\n",
       "        vertical-align: top;\n",
       "    }\n",
       "\n",
       "    .dataframe thead th {\n",
       "        text-align: right;\n",
       "    }\n",
       "</style>\n",
       "<table border=\"1\" class=\"dataframe\">\n",
       "  <thead>\n",
       "    <tr style=\"text-align: right;\">\n",
       "      <th></th>\n",
       "      <th>sexe</th>\n",
       "      <th>preusuel</th>\n",
       "      <th>annais</th>\n",
       "      <th>dpt</th>\n",
       "      <th>nombre</th>\n",
       "    </tr>\n",
       "  </thead>\n",
       "  <tbody>\n",
       "    <tr>\n",
       "      <th>3624984</th>\n",
       "      <td>2</td>\n",
       "      <td>ÉVIE</td>\n",
       "      <td>XXXX</td>\n",
       "      <td>XX</td>\n",
       "      <td>45</td>\n",
       "    </tr>\n",
       "    <tr>\n",
       "      <th>3624985</th>\n",
       "      <td>2</td>\n",
       "      <td>ÉVY</td>\n",
       "      <td>2017</td>\n",
       "      <td>42</td>\n",
       "      <td>3</td>\n",
       "    </tr>\n",
       "    <tr>\n",
       "      <th>3624986</th>\n",
       "      <td>2</td>\n",
       "      <td>ÉVY</td>\n",
       "      <td>2018</td>\n",
       "      <td>57</td>\n",
       "      <td>3</td>\n",
       "    </tr>\n",
       "    <tr>\n",
       "      <th>3624987</th>\n",
       "      <td>2</td>\n",
       "      <td>ÉVY</td>\n",
       "      <td>2018</td>\n",
       "      <td>69</td>\n",
       "      <td>4</td>\n",
       "    </tr>\n",
       "    <tr>\n",
       "      <th>3624988</th>\n",
       "      <td>2</td>\n",
       "      <td>ÉVY</td>\n",
       "      <td>XXXX</td>\n",
       "      <td>XX</td>\n",
       "      <td>89</td>\n",
       "    </tr>\n",
       "    <tr>\n",
       "      <th>3624989</th>\n",
       "      <td>2</td>\n",
       "      <td>ÉYA</td>\n",
       "      <td>2014</td>\n",
       "      <td>69</td>\n",
       "      <td>3</td>\n",
       "    </tr>\n",
       "    <tr>\n",
       "      <th>3624990</th>\n",
       "      <td>2</td>\n",
       "      <td>ÉYA</td>\n",
       "      <td>XXXX</td>\n",
       "      <td>XX</td>\n",
       "      <td>23</td>\n",
       "    </tr>\n",
       "    <tr>\n",
       "      <th>3624991</th>\n",
       "      <td>2</td>\n",
       "      <td>ÏNAYA</td>\n",
       "      <td>XXXX</td>\n",
       "      <td>XX</td>\n",
       "      <td>21</td>\n",
       "    </tr>\n",
       "    <tr>\n",
       "      <th>3624992</th>\n",
       "      <td>2</td>\n",
       "      <td>ÖZGE</td>\n",
       "      <td>XXXX</td>\n",
       "      <td>XX</td>\n",
       "      <td>30</td>\n",
       "    </tr>\n",
       "    <tr>\n",
       "      <th>3624993</th>\n",
       "      <td>2</td>\n",
       "      <td>ÖZLEM</td>\n",
       "      <td>XXXX</td>\n",
       "      <td>XX</td>\n",
       "      <td>95</td>\n",
       "    </tr>\n",
       "  </tbody>\n",
       "</table>\n",
       "</div>"
      ],
      "text/plain": [
       "         sexe preusuel annais dpt  nombre\n",
       "3624984     2     ÉVIE   XXXX  XX      45\n",
       "3624985     2      ÉVY   2017  42       3\n",
       "3624986     2      ÉVY   2018  57       3\n",
       "3624987     2      ÉVY   2018  69       4\n",
       "3624988     2      ÉVY   XXXX  XX      89\n",
       "3624989     2      ÉYA   2014  69       3\n",
       "3624990     2      ÉYA   XXXX  XX      23\n",
       "3624991     2    ÏNAYA   XXXX  XX      21\n",
       "3624992     2     ÖZGE   XXXX  XX      30\n",
       "3624993     2    ÖZLEM   XXXX  XX      95"
      ]
     },
     "execution_count": 45,
     "metadata": {},
     "output_type": "execute_result"
    }
   ],
   "source": [
    "dataset.tail(10)"
   ]
  },
  {
   "cell_type": "code",
   "execution_count": 43,
   "metadata": {},
   "outputs": [
    {
     "name": "stdout",
     "output_type": "stream",
     "text": [
      "number lines : 3624994\n",
      "number columns : 5\n"
     ]
    }
   ],
   "source": [
    "nb_lines, nb_columns = dataset.shape\n",
    "print(\"number lines : {}\\nnumber columns : {}\".format(nb_lines, nb_columns))"
   ]
  },
  {
   "cell_type": "code",
   "execution_count": 44,
   "metadata": {},
   "outputs": [
    {
     "data": {
      "text/html": [
       "<div>\n",
       "<style scoped>\n",
       "    .dataframe tbody tr th:only-of-type {\n",
       "        vertical-align: middle;\n",
       "    }\n",
       "\n",
       "    .dataframe tbody tr th {\n",
       "        vertical-align: top;\n",
       "    }\n",
       "\n",
       "    .dataframe thead th {\n",
       "        text-align: right;\n",
       "    }\n",
       "</style>\n",
       "<table border=\"1\" class=\"dataframe\">\n",
       "  <thead>\n",
       "    <tr style=\"text-align: right;\">\n",
       "      <th></th>\n",
       "      <th>sexe</th>\n",
       "      <th>nombre</th>\n",
       "    </tr>\n",
       "  </thead>\n",
       "  <tbody>\n",
       "    <tr>\n",
       "      <th>count</th>\n",
       "      <td>3.624994e+06</td>\n",
       "      <td>3.624994e+06</td>\n",
       "    </tr>\n",
       "    <tr>\n",
       "      <th>mean</th>\n",
       "      <td>1.536878e+00</td>\n",
       "      <td>2.348677e+01</td>\n",
       "    </tr>\n",
       "    <tr>\n",
       "      <th>std</th>\n",
       "      <td>4.986382e-01</td>\n",
       "      <td>8.047885e+01</td>\n",
       "    </tr>\n",
       "    <tr>\n",
       "      <th>min</th>\n",
       "      <td>1.000000e+00</td>\n",
       "      <td>3.000000e+00</td>\n",
       "    </tr>\n",
       "    <tr>\n",
       "      <th>25%</th>\n",
       "      <td>1.000000e+00</td>\n",
       "      <td>4.000000e+00</td>\n",
       "    </tr>\n",
       "    <tr>\n",
       "      <th>50%</th>\n",
       "      <td>2.000000e+00</td>\n",
       "      <td>7.000000e+00</td>\n",
       "    </tr>\n",
       "    <tr>\n",
       "      <th>75%</th>\n",
       "      <td>2.000000e+00</td>\n",
       "      <td>1.900000e+01</td>\n",
       "    </tr>\n",
       "    <tr>\n",
       "      <th>max</th>\n",
       "      <td>2.000000e+00</td>\n",
       "      <td>6.328000e+03</td>\n",
       "    </tr>\n",
       "  </tbody>\n",
       "</table>\n",
       "</div>"
      ],
      "text/plain": [
       "               sexe        nombre\n",
       "count  3.624994e+06  3.624994e+06\n",
       "mean   1.536878e+00  2.348677e+01\n",
       "std    4.986382e-01  8.047885e+01\n",
       "min    1.000000e+00  3.000000e+00\n",
       "25%    1.000000e+00  4.000000e+00\n",
       "50%    2.000000e+00  7.000000e+00\n",
       "75%    2.000000e+00  1.900000e+01\n",
       "max    2.000000e+00  6.328000e+03"
      ]
     },
     "execution_count": 44,
     "metadata": {},
     "output_type": "execute_result"
    }
   ],
   "source": [
    "dataset.describe()"
   ]
  },
  {
   "cell_type": "code",
   "execution_count": 47,
   "metadata": {},
   "outputs": [
    {
     "data": {
      "text/plain": [
       "0    1\n",
       "1    1\n",
       "2    1\n",
       "3    1\n",
       "4    1\n",
       "5    1\n",
       "6    1\n",
       "7    1\n",
       "8    1\n",
       "9    1\n",
       "Name: sexe, dtype: int64"
      ]
     },
     "execution_count": 47,
     "metadata": {},
     "output_type": "execute_result"
    }
   ],
   "source": [
    "dataset[\"sexe\"].head(10)"
   ]
  },
  {
   "cell_type": "code",
   "execution_count": 48,
   "metadata": {},
   "outputs": [
    {
     "data": {
      "text/plain": [
       "sexe         int64\n",
       "preusuel    object\n",
       "annais      object\n",
       "dpt         object\n",
       "nombre       int64\n",
       "dtype: object"
      ]
     },
     "execution_count": 48,
     "metadata": {},
     "output_type": "execute_result"
    }
   ],
   "source": [
    "dataset.dtypes"
   ]
  },
  {
   "cell_type": "code",
   "execution_count": 49,
   "metadata": {},
   "outputs": [
    {
     "data": {
      "text/plain": [
       "Index(['sexe', 'preusuel', 'annais', 'dpt', 'nombre'], dtype='object')"
      ]
     },
     "execution_count": 49,
     "metadata": {},
     "output_type": "execute_result"
    }
   ],
   "source": [
    "dataset.columns"
   ]
  },
  {
   "cell_type": "code",
   "execution_count": 51,
   "metadata": {},
   "outputs": [
    {
     "data": {
      "text/plain": [
       "sexe\n",
       "1    42888936\n",
       "2    42250453\n",
       "Name: nombre, dtype: int64"
      ]
     },
     "execution_count": 51,
     "metadata": {},
     "output_type": "execute_result"
    }
   ],
   "source": [
    "# Group by\n",
    "dataset.groupby(\"sexe\").nombre.sum()"
   ]
  },
  {
   "cell_type": "code",
   "execution_count": 52,
   "metadata": {},
   "outputs": [
    {
     "data": {
      "text/html": [
       "<div>\n",
       "<style scoped>\n",
       "    .dataframe tbody tr th:only-of-type {\n",
       "        vertical-align: middle;\n",
       "    }\n",
       "\n",
       "    .dataframe tbody tr th {\n",
       "        vertical-align: top;\n",
       "    }\n",
       "\n",
       "    .dataframe thead th {\n",
       "        text-align: right;\n",
       "    }\n",
       "</style>\n",
       "<table border=\"1\" class=\"dataframe\">\n",
       "  <thead>\n",
       "    <tr style=\"text-align: right;\">\n",
       "      <th></th>\n",
       "      <th>sexe</th>\n",
       "      <th>preusuel</th>\n",
       "      <th>annais</th>\n",
       "      <th>dpt</th>\n",
       "      <th>nombre</th>\n",
       "    </tr>\n",
       "  </thead>\n",
       "  <tbody>\n",
       "    <tr>\n",
       "      <th>597526</th>\n",
       "      <td>1</td>\n",
       "      <td>GERMAIN</td>\n",
       "      <td>XXXX</td>\n",
       "      <td>XX</td>\n",
       "      <td>4791</td>\n",
       "    </tr>\n",
       "    <tr>\n",
       "      <th>2838272</th>\n",
       "      <td>2</td>\n",
       "      <td>LYDIE</td>\n",
       "      <td>XXXX</td>\n",
       "      <td>XX</td>\n",
       "      <td>4870</td>\n",
       "    </tr>\n",
       "    <tr>\n",
       "      <th>691808</th>\n",
       "      <td>1</td>\n",
       "      <td>HUGUES</td>\n",
       "      <td>XXXX</td>\n",
       "      <td>XX</td>\n",
       "      <td>4878</td>\n",
       "    </tr>\n",
       "    <tr>\n",
       "      <th>2384919</th>\n",
       "      <td>2</td>\n",
       "      <td>FRANCE</td>\n",
       "      <td>XXXX</td>\n",
       "      <td>XX</td>\n",
       "      <td>4916</td>\n",
       "    </tr>\n",
       "    <tr>\n",
       "      <th>3316430</th>\n",
       "      <td>2</td>\n",
       "      <td>RACHEL</td>\n",
       "      <td>XXXX</td>\n",
       "      <td>XX</td>\n",
       "      <td>5040</td>\n",
       "    </tr>\n",
       "    <tr>\n",
       "      <th>552097</th>\n",
       "      <td>1</td>\n",
       "      <td>FÉLIX</td>\n",
       "      <td>XXXX</td>\n",
       "      <td>XX</td>\n",
       "      <td>5080</td>\n",
       "    </tr>\n",
       "    <tr>\n",
       "      <th>669783</th>\n",
       "      <td>1</td>\n",
       "      <td>HENRY</td>\n",
       "      <td>XXXX</td>\n",
       "      <td>XX</td>\n",
       "      <td>5096</td>\n",
       "    </tr>\n",
       "    <tr>\n",
       "      <th>1076909</th>\n",
       "      <td>1</td>\n",
       "      <td>MARTIAL</td>\n",
       "      <td>XXXX</td>\n",
       "      <td>XX</td>\n",
       "      <td>5131</td>\n",
       "    </tr>\n",
       "    <tr>\n",
       "      <th>2820207</th>\n",
       "      <td>2</td>\n",
       "      <td>LUCILE</td>\n",
       "      <td>XXXX</td>\n",
       "      <td>XX</td>\n",
       "      <td>5145</td>\n",
       "    </tr>\n",
       "    <tr>\n",
       "      <th>9823</th>\n",
       "      <td>1</td>\n",
       "      <td>ABEL</td>\n",
       "      <td>XXXX</td>\n",
       "      <td>XX</td>\n",
       "      <td>5157</td>\n",
       "    </tr>\n",
       "    <tr>\n",
       "      <th>2317688</th>\n",
       "      <td>2</td>\n",
       "      <td>ESTHER</td>\n",
       "      <td>XXXX</td>\n",
       "      <td>XX</td>\n",
       "      <td>5174</td>\n",
       "    </tr>\n",
       "    <tr>\n",
       "      <th>1651824</th>\n",
       "      <td>1</td>\n",
       "      <td>YVAN</td>\n",
       "      <td>XXXX</td>\n",
       "      <td>XX</td>\n",
       "      <td>5238</td>\n",
       "    </tr>\n",
       "    <tr>\n",
       "      <th>1991491</th>\n",
       "      <td>2</td>\n",
       "      <td>CARMEN</td>\n",
       "      <td>XXXX</td>\n",
       "      <td>XX</td>\n",
       "      <td>5330</td>\n",
       "    </tr>\n",
       "    <tr>\n",
       "      <th>407132</th>\n",
       "      <td>1</td>\n",
       "      <td>ELIE</td>\n",
       "      <td>XXXX</td>\n",
       "      <td>XX</td>\n",
       "      <td>5337</td>\n",
       "    </tr>\n",
       "    <tr>\n",
       "      <th>3560253</th>\n",
       "      <td>2</td>\n",
       "      <td>VIOLETTE</td>\n",
       "      <td>XXXX</td>\n",
       "      <td>XX</td>\n",
       "      <td>5508</td>\n",
       "    </tr>\n",
       "    <tr>\n",
       "      <th>1123654</th>\n",
       "      <td>1</td>\n",
       "      <td>MAX</td>\n",
       "      <td>XXXX</td>\n",
       "      <td>XX</td>\n",
       "      <td>5558</td>\n",
       "    </tr>\n",
       "    <tr>\n",
       "      <th>1808440</th>\n",
       "      <td>2</td>\n",
       "      <td>ANGELINE</td>\n",
       "      <td>XXXX</td>\n",
       "      <td>XX</td>\n",
       "      <td>5591</td>\n",
       "    </tr>\n",
       "    <tr>\n",
       "      <th>742602</th>\n",
       "      <td>1</td>\n",
       "      <td>JEAN</td>\n",
       "      <td>1947</td>\n",
       "      <td>75</td>\n",
       "      <td>5802</td>\n",
       "    </tr>\n",
       "    <tr>\n",
       "      <th>2107312</th>\n",
       "      <td>2</td>\n",
       "      <td>CLOTILDE</td>\n",
       "      <td>XXXX</td>\n",
       "      <td>XX</td>\n",
       "      <td>5831</td>\n",
       "    </tr>\n",
       "    <tr>\n",
       "      <th>742508</th>\n",
       "      <td>1</td>\n",
       "      <td>JEAN</td>\n",
       "      <td>1946</td>\n",
       "      <td>75</td>\n",
       "      <td>6328</td>\n",
       "    </tr>\n",
       "  </tbody>\n",
       "</table>\n",
       "</div>"
      ],
      "text/plain": [
       "         sexe  preusuel annais dpt  nombre\n",
       "597526      1   GERMAIN   XXXX  XX    4791\n",
       "2838272     2     LYDIE   XXXX  XX    4870\n",
       "691808      1    HUGUES   XXXX  XX    4878\n",
       "2384919     2    FRANCE   XXXX  XX    4916\n",
       "3316430     2    RACHEL   XXXX  XX    5040\n",
       "552097      1     FÉLIX   XXXX  XX    5080\n",
       "669783      1     HENRY   XXXX  XX    5096\n",
       "1076909     1   MARTIAL   XXXX  XX    5131\n",
       "2820207     2    LUCILE   XXXX  XX    5145\n",
       "9823        1      ABEL   XXXX  XX    5157\n",
       "2317688     2    ESTHER   XXXX  XX    5174\n",
       "1651824     1      YVAN   XXXX  XX    5238\n",
       "1991491     2    CARMEN   XXXX  XX    5330\n",
       "407132      1      ELIE   XXXX  XX    5337\n",
       "3560253     2  VIOLETTE   XXXX  XX    5508\n",
       "1123654     1       MAX   XXXX  XX    5558\n",
       "1808440     2  ANGELINE   XXXX  XX    5591\n",
       "742602      1      JEAN   1947  75    5802\n",
       "2107312     2  CLOTILDE   XXXX  XX    5831\n",
       "742508      1      JEAN   1946  75    6328"
      ]
     },
     "execution_count": 52,
     "metadata": {},
     "output_type": "execute_result"
    }
   ],
   "source": [
    "# Sort\n",
    "dataset.sort_values(by='nombre')[-20:]"
   ]
  },
  {
   "cell_type": "code",
   "execution_count": 53,
   "metadata": {},
   "outputs": [
    {
     "data": {
      "text/plain": [
       "dpt\n",
       "48      104399\n",
       "04      105739\n",
       "05      126071\n",
       "09      156535\n",
       "973     169185\n",
       "        ...   \n",
       "69     2073802\n",
       "62     2350845\n",
       "59     4175920\n",
       "75     6160048\n",
       "XX     8261688\n",
       "Name: nombre, Length: 100, dtype: int64"
      ]
     },
     "execution_count": 53,
     "metadata": {},
     "output_type": "execute_result"
    }
   ],
   "source": [
    "# Top des départements avec le plus et le moins de naissances\n",
    "dataset.groupby(\"dpt\").nombre.sum().sort_values()"
   ]
  },
  {
   "cell_type": "code",
   "execution_count": 56,
   "metadata": {},
   "outputs": [
    {
     "data": {
      "text/plain": [
       "preusuel\n",
       "DOMINIQUE          409919\n",
       "PAUL               416412\n",
       "ROBERT             419297\n",
       "ROGER              423873\n",
       "DANIEL             435021\n",
       "MARCEL             467850\n",
       "CLAUDE             468445\n",
       "BERNARD            469399\n",
       "JACQUES            482812\n",
       "ALAIN              506899\n",
       "RENÉ               516739\n",
       "LOUIS              517774\n",
       "PHILIPPE           538661\n",
       "JEANNE             556074\n",
       "ANDRÉ              712568\n",
       "MICHEL             820459\n",
       "PIERRE             891894\n",
       "_PRENOMS_RARES    1575032\n",
       "JEAN              1917129\n",
       "MARIE             2260236\n",
       "Name: nombre, dtype: int64"
      ]
     },
     "execution_count": 56,
     "metadata": {},
     "output_type": "execute_result"
    }
   ],
   "source": [
    "# All time - All departements top 20\n",
    "dataset.groupby(dataset.preusuel).nombre.sum().sort_values()[-20:]"
   ]
  },
  {
   "cell_type": "code",
   "execution_count": 60,
   "metadata": {},
   "outputs": [
    {
     "data": {
      "text/html": [
       "<div>\n",
       "<style scoped>\n",
       "    .dataframe tbody tr th:only-of-type {\n",
       "        vertical-align: middle;\n",
       "    }\n",
       "\n",
       "    .dataframe tbody tr th {\n",
       "        vertical-align: top;\n",
       "    }\n",
       "\n",
       "    .dataframe thead th {\n",
       "        text-align: right;\n",
       "    }\n",
       "</style>\n",
       "<table border=\"1\" class=\"dataframe\">\n",
       "  <thead>\n",
       "    <tr style=\"text-align: right;\">\n",
       "      <th></th>\n",
       "      <th>sexe</th>\n",
       "      <th>preusuel</th>\n",
       "      <th>annais</th>\n",
       "      <th>dpt</th>\n",
       "      <th>nombre</th>\n",
       "    </tr>\n",
       "  </thead>\n",
       "  <tbody>\n",
       "    <tr>\n",
       "      <th>594601</th>\n",
       "      <td>1</td>\n",
       "      <td>GERMAIN</td>\n",
       "      <td>1912</td>\n",
       "      <td>75</td>\n",
       "      <td>35</td>\n",
       "    </tr>\n",
       "    <tr>\n",
       "      <th>595629</th>\n",
       "      <td>1</td>\n",
       "      <td>GERMAIN</td>\n",
       "      <td>1927</td>\n",
       "      <td>59</td>\n",
       "      <td>36</td>\n",
       "    </tr>\n",
       "    <tr>\n",
       "      <th>594154</th>\n",
       "      <td>1</td>\n",
       "      <td>GERMAIN</td>\n",
       "      <td>1907</td>\n",
       "      <td>12</td>\n",
       "      <td>37</td>\n",
       "    </tr>\n",
       "    <tr>\n",
       "      <th>594392</th>\n",
       "      <td>1</td>\n",
       "      <td>GERMAIN</td>\n",
       "      <td>1910</td>\n",
       "      <td>19</td>\n",
       "      <td>38</td>\n",
       "    </tr>\n",
       "    <tr>\n",
       "      <th>593963</th>\n",
       "      <td>1</td>\n",
       "      <td>GERMAIN</td>\n",
       "      <td>1904</td>\n",
       "      <td>59</td>\n",
       "      <td>42</td>\n",
       "    </tr>\n",
       "    <tr>\n",
       "      <th>595095</th>\n",
       "      <td>1</td>\n",
       "      <td>GERMAIN</td>\n",
       "      <td>1920</td>\n",
       "      <td>59</td>\n",
       "      <td>43</td>\n",
       "    </tr>\n",
       "    <tr>\n",
       "      <th>595551</th>\n",
       "      <td>1</td>\n",
       "      <td>GERMAIN</td>\n",
       "      <td>1926</td>\n",
       "      <td>59</td>\n",
       "      <td>43</td>\n",
       "    </tr>\n",
       "    <tr>\n",
       "      <th>595318</th>\n",
       "      <td>1</td>\n",
       "      <td>GERMAIN</td>\n",
       "      <td>1923</td>\n",
       "      <td>59</td>\n",
       "      <td>45</td>\n",
       "    </tr>\n",
       "    <tr>\n",
       "      <th>2432016</th>\n",
       "      <td>2</td>\n",
       "      <td>GERMAIN</td>\n",
       "      <td>XXXX</td>\n",
       "      <td>XX</td>\n",
       "      <td>120</td>\n",
       "    </tr>\n",
       "    <tr>\n",
       "      <th>597526</th>\n",
       "      <td>1</td>\n",
       "      <td>GERMAIN</td>\n",
       "      <td>XXXX</td>\n",
       "      <td>XX</td>\n",
       "      <td>4791</td>\n",
       "    </tr>\n",
       "  </tbody>\n",
       "</table>\n",
       "</div>"
      ],
      "text/plain": [
       "         sexe preusuel annais dpt  nombre\n",
       "594601      1  GERMAIN   1912  75      35\n",
       "595629      1  GERMAIN   1927  59      36\n",
       "594154      1  GERMAIN   1907  12      37\n",
       "594392      1  GERMAIN   1910  19      38\n",
       "593963      1  GERMAIN   1904  59      42\n",
       "595095      1  GERMAIN   1920  59      43\n",
       "595551      1  GERMAIN   1926  59      43\n",
       "595318      1  GERMAIN   1923  59      45\n",
       "2432016     2  GERMAIN   XXXX  XX     120\n",
       "597526      1  GERMAIN   XXXX  XX    4791"
      ]
     },
     "execution_count": 60,
     "metadata": {},
     "output_type": "execute_result"
    }
   ],
   "source": [
    "#Filtrer les lignes :\n",
    "dataset[(dataset.preusuel==\"GERMAIN\")].sort_values(by=\"nombre\")[-10:]"
   ]
  },
  {
   "cell_type": "code",
   "execution_count": 62,
   "metadata": {},
   "outputs": [
    {
     "data": {
      "text/plain": [
       "sexe        3589386\n",
       "preusuel    3589386\n",
       "annais      3589386\n",
       "dpt         3589386\n",
       "nombre      3589386\n",
       "dtype: int64"
      ]
     },
     "execution_count": 62,
     "metadata": {},
     "output_type": "execute_result"
    }
   ],
   "source": [
    "dataset = dataset[(dataset.dpt != \"XX\")]\n",
    "dataset.count()"
   ]
  },
  {
   "cell_type": "code",
   "execution_count": 65,
   "metadata": {},
   "outputs": [
    {
     "data": {
      "text/plain": [
       "preusuel\n",
       "LOUISE             3765\n",
       "ADAM               3885\n",
       "JADE               3977\n",
       "LUCAS              3978\n",
       "EMMA               4367\n",
       "LOUIS              4411\n",
       "LÉO                4444\n",
       "RAPHAËL            4589\n",
       "GABRIEL            5418\n",
       "_PRENOMS_RARES    53978\n",
       "Name: nombre, dtype: int64"
      ]
     },
     "execution_count": 65,
     "metadata": {},
     "output_type": "execute_result"
    }
   ],
   "source": [
    "# 10 prenoms les plus frequents de 2018\n",
    "dataset[(dataset.annais==\"2018\")].groupby(dataset.preusuel).nombre.sum().sort_values()[-10:]"
   ]
  },
  {
   "cell_type": "markdown",
   "metadata": {},
   "source": [
    "EXERCICE :"
   ]
  },
  {
   "cell_type": "markdown",
   "metadata": {},
   "source": [
    "DATASET : https://www.data.gouv.fr/fr/datasets/demandes-de-valeurs-foncieres/"
   ]
  },
  {
   "cell_type": "code",
   "execution_count": 4,
   "metadata": {},
   "outputs": [],
   "source": [
    "data_2019 = pd.read_csv(\"https://www.data.gouv.fr/fr/datasets/r/3004168d-bec4-44d9-a781-ef16f41856a2\", delimiter=\"|\", decimal=\",\" , parse_dates=True, low_memory=False)"
   ]
  },
  {
   "cell_type": "markdown",
   "metadata": {},
   "source": [
    "Affichage du pourcentage des différentes natures de mutations dans toute la France en 2019"
   ]
  },
  {
   "cell_type": "code",
   "execution_count": 6,
   "metadata": {},
   "outputs": [
    {
     "data": {
      "image/png": "[encoded data removed]",
      "text/plain": [
       "<Figure size 720x720 with 1 Axes>"
      ]
     },
     "metadata": {},
     "output_type": "display_data"
    }
   ],
   "source": [
    "data_to_show = data_2019[['Nature mutation']]\n",
    "data_to_show = data_to_show['Nature mutation'].value_counts(normalize=True) * 100\n",
    "tab_index = [data_to_show.index[x] for x in range(len(data_to_show.index))]\n",
    "plt.figure(figsize=(10, 10))\n",
    "plt.pie(data_to_show, explode=(0.1, 0.2, 0.4, 0.6, 0.8, 1))\n",
    "plt.legend(tab_index, loc=(1, 1))\n",
    "plt.show()"
   ]
  },
  {
   "cell_type": "markdown",
   "metadata": {},
   "source": [
    "Affichage de la valeur foncière cumulé par jour en 2019"
   ]
  },
  {
   "cell_type": "code",
   "execution_count": 8,
   "metadata": {
    "scrolled": true
   },
   "outputs": [
    {
     "data": {
      "image/png": "[encoded data removed]",
      "text/plain": [
       "<Figure size 1080x360 with 1 Axes>"
      ]
     },
     "metadata": {
      "needs_background": "light"
     },
     "output_type": "display_data"
    }
   ],
   "source": [
    "data_2019['Date mutation'] =  pd.to_datetime(data_2019['Date mutation'], infer_datetime_format=True)\n",
    "data_2019a = data_2019.resample('D', on='Date mutation')['Valeur fonciere'].sum().to_frame()\n",
    "data_2019a['Doy'] = data_2019a.index.dayofyear\n",
    "\n",
    "fig, ax = plt.subplots(figsize=(15, 5))\n",
    "                                \n",
    "data_2019a.rename(columns={'Valeur fonciere': \"2019\"}).plot(kind='line',x='Doy', y='2019',ax=ax)\n",
    "\n",
    "plt.xlabel(\"Jour de l'année\")\n",
    "plt.ylabel(\"Valeur foncière\")\n",
    "\n",
    "plt.show()"
   ]
  },
  {
   "cell_type": "markdown",
   "metadata": {},
   "source": [
    "Répartition des types de locaux pour le département 75"
   ]
  },
  {
   "cell_type": "code",
   "execution_count": 9,
   "metadata": {},
   "outputs": [
    {
     "data": {
      "image/png": "[encoded data removed]",
      "text/plain": [
       "<Figure size 720x720 with 1 Axes>"
      ]
     },
     "metadata": {},
     "output_type": "display_data"
    }
   ],
   "source": [
    "type_data_2019 = data_2019.loc[data_2019['Code departement'] == '75'].groupby('Type local')['Type local'].count()\n",
    "type_data_2019.plot.pie(figsize=(10, 10))\n",
    "plt.show()"
   ]
  },
  {
   "cell_type": "code",
   "execution_count": null,
   "metadata": {},
   "outputs": [],
   "source": []
  }
 ],
 "metadata": {
  "kernelspec": {
   "display_name": "Python 3",
   "language": "python",
   "name": "python3"
  },
  "language_info": {
   "codemirror_mode": {
    "name": "ipython",
    "version": 3
   },
   "file_extension": ".py",
   "mimetype": "text/x-python",
   "name": "python",
   "nbconvert_exporter": "python",
   "pygments_lexer": "ipython3",
   "version": "3.8.3"
  }
 },
 "nbformat": 4,
 "nbformat_minor": 4
}
